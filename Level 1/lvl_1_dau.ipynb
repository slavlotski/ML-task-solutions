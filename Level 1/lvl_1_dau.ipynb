{
 "cells": [
  {
   "cell_type": "markdown",
   "metadata": {},
   "source": [
    "## Описание задачи:\n",
    "Вам предоставлен доступ к таблице default.churn_submits. В ней находятся данные по активности пользователей нашего Симулятора. Одна строка = одна попытка решения каким-то студентом какой-то задачи. \n",
    "\n",
    "churn_submits состоит из колонок: \n",
    "- submit_id – id события-попытки\n",
    "- timestamp – время попытки\n",
    "- user_id  - id пользователя\n",
    "- task_id - id задания\n",
    "- submit - номер попытки\n",
    "- score -  балл за задание\n",
    "- is_solved - решил/не решил\n",
    "\n",
    "Напишите запрос с расчётом DAU на каждый день. Название столбцов должно быть day и dau (должны идти именно в таком порядке). Также попробуйте вывести дашборд в Redash с полученной динамикой dau."
   ]
  },
  {
   "cell_type": "markdown",
   "metadata": {},
   "source": [
    "## Решение:"
   ]
  },
  {
   "cell_type": "code",
   "execution_count": null,
   "metadata": {
    "vscode": {
     "languageId": "sql"
    }
   },
   "outputs": [],
   "source": [
    "select  day, \n",
    "        count(user_id) as dau \n",
    "from (select distinct toDate(timestamp) as day, user_id from default.churn_submits)\n",
    "group by day"
   ]
  },
  {
   "cell_type": "markdown",
   "metadata": {},
   "source": [
    "### Дашборд DAU:"
   ]
  },
  {
   "cell_type": "markdown",
   "metadata": {},
   "source": [
    "![jupyter](./lvl_1_dau.png)"
   ]
  }
 ],
 "metadata": {
  "kernelspec": {
   "display_name": "Python 3.11.0 64-bit",
   "language": "python",
   "name": "python3"
  },
  "language_info": {
   "name": "python",
   "version": "3.11.0"
  },
  "orig_nbformat": 4,
  "vscode": {
   "interpreter": {
    "hash": "aee8b7b246df8f9039afb4144a1f6fd8d2ca17a180786b69acc140d282b71a49"
   }
  }
 },
 "nbformat": 4,
 "nbformat_minor": 2
}
