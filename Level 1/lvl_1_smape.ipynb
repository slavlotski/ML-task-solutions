{
 "cells": [
  {
   "cell_type": "markdown",
   "id": "d06dcc0d-59df-4ee6-8357-66db6f63a1fb",
   "metadata": {
    "tags": []
   },
   "source": [
    "### Условие задания:"
   ]
  },
  {
   "cell_type": "markdown",
   "id": "a5b166dc-fd2f-4813-8bd7-ff27644f8174",
   "metadata": {},
   "source": [
    "Два месяца назад ваш коллега во время своей стажировки написал sMAPE, который корректно работал в продакшене всё это время, однако периодически метрика выдаёт ошибку и к сожалению логи ошибки нам недоступны."
   ]
  },
  {
   "cell_type": "code",
   "execution_count": 1,
   "id": "10368bb3-1af3-4cd4-947d-3afd381ae42b",
   "metadata": {},
   "outputs": [],
   "source": [
    "# Исходный код метрики:\n",
    "import numpy as np\n",
    "\n",
    "def smape(y_true: np.array, y_pred: np.array) -> float:\n",
    "    return np.mean(2 * np.abs(y_true - y_pred) / (np.abs(y_true) + np.abs(y_pred)))"
   ]
  },
  {
   "cell_type": "markdown",
   "id": "94e36a41-5dba-40dd-b0b7-75f24c92734e",
   "metadata": {},
   "source": [
    "Ваша задача – отыскать случаи, когда данный код выдаёт ошибку, и исправить его (заменив, подумайте каким значением в каждом \"особом случае\"), не меняя поведение метрики в остальных ситуациях.\n",
    "\n",
    "Гарантируется, что y_true и y_pred – одинаковой длины."
   ]
  },
  {
   "cell_type": "markdown",
   "id": "53264ceb-445f-4a83-b0f1-8fc0cb8e5a32",
   "metadata": {
    "tags": []
   },
   "source": [
    "### Решение:"
   ]
  },
  {
   "cell_type": "code",
   "execution_count": 27,
   "id": "2b778b85-29e6-428b-a6fc-96ec0fc39869",
   "metadata": {},
   "outputs": [],
   "source": [
    "def smape_corr(y_true: np.array, y_pred: np.array) -> float:\n",
    "    \n",
    "    numerator = 2 * np.abs(y_true - y_pred)\n",
    "    denominator = (np.abs(y_true) + np.abs(y_pred))\n",
    "    denominator[denominator == 0.0] = 1.0  # Деление на 0 приведет к ошибке или nan значению\n",
    "    \n",
    "    return np.mean(numerator / denominator)"
   ]
  },
  {
   "cell_type": "markdown",
   "id": "8d9bea42-4d64-4eeb-8d6c-ddfdfe2f27d3",
   "metadata": {
    "tags": []
   },
   "source": [
    "### Проверка на тест-кейсах"
   ]
  },
  {
   "cell_type": "code",
   "execution_count": 25,
   "id": "2d42efe4-b07f-4771-9606-218edea15b62",
   "metadata": {},
   "outputs": [
    {
     "name": "stdout",
     "output_type": "stream",
     "text": [
      "True\n"
     ]
    }
   ],
   "source": [
    "# test-case 1\n",
    "from numpy import random\n",
    "\n",
    "y_true = random.rand(5)\n",
    "y_pred = random.rand(5)\n",
    "\n",
    "print(smape(y_true, y_pred) == smape_corr(y_true, y_pred))"
   ]
  },
  {
   "cell_type": "code",
   "execution_count": 28,
   "id": "961a01c9-1f25-4fa5-a0a9-4d2ab2062e79",
   "metadata": {},
   "outputs": [
    {
     "name": "stdout",
     "output_type": "stream",
     "text": [
      "nan\n",
      "0.6666666666666666\n"
     ]
    },
    {
     "name": "stderr",
     "output_type": "stream",
     "text": [
      "/tmp/ipykernel_46/858110378.py:5: RuntimeWarning: invalid value encountered in true_divide\n",
      "  return np.mean(2 * np.abs(y_true - y_pred) / (np.abs(y_true) + np.abs(y_pred)))\n"
     ]
    }
   ],
   "source": [
    "# test-case 2\n",
    "y_true = np.array([0, 0, 0])\n",
    "y_pred = np.array([1, 0, 0])\n",
    "\n",
    "print(smape(y_true, y_pred))\n",
    "print(smape_corr(y_true, y_pred))"
   ]
  },
  {
   "cell_type": "code",
   "execution_count": 31,
   "id": "ea469527-b446-45df-a8d1-11d74ef265de",
   "metadata": {},
   "outputs": [
    {
     "name": "stdout",
     "output_type": "stream",
     "text": [
      "nan\n",
      "0.0\n"
     ]
    },
    {
     "name": "stderr",
     "output_type": "stream",
     "text": [
      "/tmp/ipykernel_46/858110378.py:5: RuntimeWarning: invalid value encountered in true_divide\n",
      "  return np.mean(2 * np.abs(y_true - y_pred) / (np.abs(y_true) + np.abs(y_pred)))\n"
     ]
    }
   ],
   "source": [
    "# test-case 3 \n",
    "y_true = np.array((0, 1))\n",
    "y_pred = np.array((0, 1))\n",
    "\n",
    "print(smape(y_true, y_pred))\n",
    "print(smape_corr(y_true, y_pred))"
   ]
  }
 ],
 "metadata": {
  "kernelspec": {
   "display_name": "Python 3 (ipykernel)",
   "language": "python",
   "name": "python3"
  },
  "language_info": {
   "codemirror_mode": {
    "name": "ipython",
    "version": 3
   },
   "file_extension": ".py",
   "mimetype": "text/x-python",
   "name": "python",
   "nbconvert_exporter": "python",
   "pygments_lexer": "ipython3",
   "version": "3.8.10"
  }
 },
 "nbformat": 4,
 "nbformat_minor": 5
}
