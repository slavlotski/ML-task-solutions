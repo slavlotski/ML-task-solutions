{
 "cells": [
  {
   "cell_type": "markdown",
   "metadata": {},
   "source": [
    "## Описание задачи:"
   ]
  },
  {
   "cell_type": "markdown",
   "metadata": {},
   "source": [
    "Наша модель динамического ценообразования на маркетплейсе `KarpovExpress` предсказывает оборот на завтра в рублях. Прогноз выполняется на основе некоторого набора фичей и цены. Также мы знаем, сколько товаров хранится на складе и доступно для продажи. Предполагается, что на данные товары нет никаких дополнительных промо-акций, скидок и для каждого покупателя цена одинакова.\n",
    "\n",
    "Колонки таблицы:\n",
    "- sku – SKU (Stock Keeping Unit), уникальный ID товара\n",
    "- gmv – GMV (Gross Merchandise Volume), аналог розничного товарооборота\n",
    "- stock – число единиц товара на складе\n",
    "- price – цена на товар\n",
    "\n",
    "Формула расчета: `GMV = (цена) * (штук продано)`\n",
    "\n",
    "Необходимо написать функцию для постобработки предсказаний модели:"
   ]
  },
  {
   "cell_type": "markdown",
   "metadata": {},
   "source": [
    "## Решение:"
   ]
  },
  {
   "cell_type": "code",
   "execution_count": 26,
   "metadata": {},
   "outputs": [],
   "source": [
    "import pandas as pd\n",
    "\n",
    "\n",
    "def limit_gmv(dataframe: pd.DataFrame) -> pd.DataFrame:\n",
    "    \"\"\"Function to postprocessing gmv value\"\"\"\n",
    "\n",
    "    limit_gmv_df = dataframe.copy()\n",
    "    count_product = (limit_gmv_df.gmv / limit_gmv_df.price).astype(int)\n",
    "    limit_gmv_df['gmv'] = limit_gmv_df.price * count_product.clip(upper = limit_gmv_df.stock)\n",
    "\n",
    "    return limit_gmv_df"
   ]
  },
  {
   "cell_type": "code",
   "execution_count": 27,
   "metadata": {},
   "outputs": [
    {
     "name": "stdout",
     "output_type": "stream",
     "text": [
      "   sku  gmv  price  stock\n",
      "0  100  400    100      3\n",
      "1  200  350     70     10\n",
      "2  300  500    120      5\n"
     ]
    },
    {
     "data": {
      "text/html": [
       "<div>\n",
       "<style scoped>\n",
       "    .dataframe tbody tr th:only-of-type {\n",
       "        vertical-align: middle;\n",
       "    }\n",
       "\n",
       "    .dataframe tbody tr th {\n",
       "        vertical-align: top;\n",
       "    }\n",
       "\n",
       "    .dataframe thead th {\n",
       "        text-align: right;\n",
       "    }\n",
       "</style>\n",
       "<table border=\"1\" class=\"dataframe\">\n",
       "  <thead>\n",
       "    <tr style=\"text-align: right;\">\n",
       "      <th></th>\n",
       "      <th>sku</th>\n",
       "      <th>gmv</th>\n",
       "      <th>price</th>\n",
       "      <th>stock</th>\n",
       "    </tr>\n",
       "  </thead>\n",
       "  <tbody>\n",
       "    <tr>\n",
       "      <th>0</th>\n",
       "      <td>100</td>\n",
       "      <td>300</td>\n",
       "      <td>100</td>\n",
       "      <td>3</td>\n",
       "    </tr>\n",
       "    <tr>\n",
       "      <th>1</th>\n",
       "      <td>200</td>\n",
       "      <td>350</td>\n",
       "      <td>70</td>\n",
       "      <td>10</td>\n",
       "    </tr>\n",
       "    <tr>\n",
       "      <th>2</th>\n",
       "      <td>300</td>\n",
       "      <td>480</td>\n",
       "      <td>120</td>\n",
       "      <td>5</td>\n",
       "    </tr>\n",
       "  </tbody>\n",
       "</table>\n",
       "</div>"
      ],
      "text/plain": [
       "   sku  gmv  price  stock\n",
       "0  100  300    100      3\n",
       "1  200  350     70     10\n",
       "2  300  480    120      5"
      ]
     },
     "execution_count": 27,
     "metadata": {},
     "output_type": "execute_result"
    }
   ],
   "source": [
    "# test-case \n",
    "input_data = {'sku': [100, 200, 300],\n",
    "              'gmv': [400, 350, 500],\n",
    "              'price': [100, 70, 120],\n",
    "              'stock': [3, 10, 5]}\n",
    "\n",
    "gmv_dataframe = pd.DataFrame(input_data)\n",
    "print(gmv_dataframe)\n",
    "limit_gmv(gmv_dataframe)"
   ]
  }
 ],
 "metadata": {
  "kernelspec": {
   "display_name": "Python 3.11.0 64-bit",
   "language": "python",
   "name": "python3"
  },
  "language_info": {
   "codemirror_mode": {
    "name": "ipython",
    "version": 3
   },
   "file_extension": ".py",
   "mimetype": "text/x-python",
   "name": "python",
   "nbconvert_exporter": "python",
   "pygments_lexer": "ipython3",
   "version": "3.11.0"
  },
  "orig_nbformat": 4,
  "vscode": {
   "interpreter": {
    "hash": "aee8b7b246df8f9039afb4144a1f6fd8d2ca17a180786b69acc140d282b71a49"
   }
  }
 },
 "nbformat": 4,
 "nbformat_minor": 2
}
