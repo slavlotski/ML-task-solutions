{
 "cells": [
  {
   "cell_type": "markdown",
   "metadata": {},
   "source": [
    "## Описание задачи"
   ]
  },
  {
   "cell_type": "markdown",
   "metadata": {},
   "source": [
    "Вашей команде поручили заняться разработкой сервиса для автоматического отлова ботов и предотвращения DDoS-атак. Для регистрации на сайте необходимо указать email-адрес. Не всегда указанный набор символов является корректным email.\n",
    "\n",
    "Вашему коллеге-стажёру поручили выполнить это маленькое задание, в результате разработан код, приведённый ниже:"
   ]
  },
  {
   "cell_type": "code",
   "execution_count": 1,
   "metadata": {},
   "outputs": [],
   "source": [
    "from typing import List\n",
    "import re\n",
    "\n",
    "def valid_emails(strings: List[str]) -> List[str]:\n",
    "    \"\"\"Take list of potential emails and returns only valid ones\"\"\"\n",
    "\n",
    "    valid_email_regex = \"^[a-zA-Z0-9+_.-]+@[a-zA-Z0-9.-]+$\"\n",
    "\n",
    "    def is_valid_email(email: str) -> bool:\n",
    "        return bool(re.fullmatch(valid_email_regex, email))\n",
    "\n",
    "    emails = []\n",
    "    for email in strings:\n",
    "        if is_valid_email(email):\n",
    "            emails.append(email)\n",
    "\n",
    "    return emails"
   ]
  },
  {
   "cell_type": "markdown",
   "metadata": {},
   "source": [
    "Код работает корректно и полностью решает задачу, однако когда ваш TeamLead ревьюил код, то оставил комментарий, что его можно ускорить минимум в 2 раза, буквально поменяв две строчки. Однако он не сказал, как – лишь оставил ссылку на страницу про регулярные выражения в Python в качестве подсказки https://docs.python.org/3/library/re.html "
   ]
  },
  {
   "cell_type": "markdown",
   "metadata": {},
   "source": [
    "## Решение:"
   ]
  },
  {
   "cell_type": "code",
   "execution_count": null,
   "metadata": {},
   "outputs": [],
   "source": [
    "def valid_emails_corr(strings: List[str]) -> List[str]:\n",
    "    \"\"\"Take list of potential emails and returns only valid ones\"\"\"\n",
    "\n",
    "    valid_email_regex = re.compile(\"^[a-zA-Z0-9+_.-]+@[a-zA-Z0-9.-]+$\")\n",
    "\n",
    "    def is_valid_email(email: str) -> bool:\n",
    "        return bool(valid_email_regex.fullmatch(email)) # переиспользуем match-object сформированный compile\n",
    "\n",
    "    valid_emails = [email for email in strings if is_valid_email(email)] # list comprehension при создании списка работает быстрее обычного for loop\n",
    "\n",
    "    return valid_emails"
   ]
  }
 ],
 "metadata": {
  "kernelspec": {
   "display_name": "Python 3.11.0 64-bit",
   "language": "python",
   "name": "python3"
  },
  "language_info": {
   "codemirror_mode": {
    "name": "ipython",
    "version": 3
   },
   "file_extension": ".py",
   "mimetype": "text/x-python",
   "name": "python",
   "nbconvert_exporter": "python",
   "pygments_lexer": "ipython3",
   "version": "3.11.0"
  },
  "orig_nbformat": 4,
  "vscode": {
   "interpreter": {
    "hash": "aee8b7b246df8f9039afb4144a1f6fd8d2ca17a180786b69acc140d282b71a49"
   }
  }
 },
 "nbformat": 4,
 "nbformat_minor": 2
}
