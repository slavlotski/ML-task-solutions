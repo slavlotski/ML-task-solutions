{
 "cells": [
  {
   "cell_type": "markdown",
   "metadata": {},
   "source": [
    "## Условие задачи: \n",
    "Прогноз спроса:\\\n",
    "Мы работаем в компании X6. Наша задача – прогноз товарооборота бытовой техники: нужно понять, сколько каждого товара привезти на ту или иную точку для продажи. Допустим, поставки осуществляются раз в 3 месяца. Если привезем слишком мало, то весь товар скупят, и новые клиенты не смогут купить нужную им технику. Из-за чего мы потеряем потенциальную прибыль (missed profit), так как не смогли покрыть спрос. Если привозим слишком много (а зачастую бытовая техника – крупногабаритный товар), то это ведёт к переполнению склада, что затрудняет ввоз более новых моделей техники.\n",
    "\n",
    "Что в данной ситуации предпочтительнее: привезти на склад больше чем нужно или меньше?\n",
    "\n",
    "Вам необходимо придумать функцию потерь, которая была бы адекватная для данной бизнес-задачи:"
   ]
  },
  {
   "cell_type": "markdown",
   "metadata": {},
   "source": [
    "## Решение:"
   ]
  },
  {
   "cell_type": "code",
   "execution_count": 24,
   "metadata": {},
   "outputs": [],
   "source": [
    "import numpy as np\n",
    "\n",
    "def turnover_error(y_true: np.array, y_pred: np.array) -> float:\n",
    "    \"\"\"Custom RMSLE metric\"\"\"\n",
    "    if len(y_true) == len(y_pred):\n",
    "        y_true = np.array([np.log1p(value) + 1 for value in y_true])\n",
    "        y_pred = np.array([np.log1p(value) + 1 for value in y_pred])\n",
    "        if not np.isnan(y_true).any() and not np.isnan(y_pred).any():\n",
    "            error = np.sqrt(np.mean((y_pred - y_true)**2))   \n",
    "\n",
    "    return error"
   ]
  }
 ],
 "metadata": {
  "kernelspec": {
   "display_name": "Python 3.11.0 64-bit",
   "language": "python",
   "name": "python3"
  },
  "language_info": {
   "codemirror_mode": {
    "name": "ipython",
    "version": 3
   },
   "file_extension": ".py",
   "mimetype": "text/x-python",
   "name": "python",
   "nbconvert_exporter": "python",
   "pygments_lexer": "ipython3",
   "version": "3.11.0"
  },
  "orig_nbformat": 4,
  "vscode": {
   "interpreter": {
    "hash": "aee8b7b246df8f9039afb4144a1f6fd8d2ca17a180786b69acc140d282b71a49"
   }
  }
 },
 "nbformat": 4,
 "nbformat_minor": 2
}
