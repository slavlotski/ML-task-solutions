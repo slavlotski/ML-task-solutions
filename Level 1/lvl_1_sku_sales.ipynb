{
 "cells": [
  {
   "cell_type": "markdown",
   "metadata": {},
   "source": [
    "## Условие задачи"
   ]
  },
  {
   "cell_type": "markdown",
   "metadata": {},
   "source": [
    "Вам дан доступ к таблице transactions_another_one, в которой хранится информация о транзакциях. Она содержит следующие поля:\n",
    "- calc_date - дата продажи\n",
    "- transaction_id - id транзакции\n",
    "- _productid_key - уникальный ключ товара\n",
    "- store_id - id магазина\n",
    "- price_per_item - цена за единицу товара\n",
    "- dicount - скидка на товар\n",
    "- cnt -количество проданного товара\n",
    "\n",
    "Напишите запрос и постройте дашборд с демонстрацией количества SKU, проданных в различные дни. "
   ]
  },
  {
   "cell_type": "markdown",
   "metadata": {},
   "source": [
    "## Решение:"
   ]
  },
  {
   "cell_type": "code",
   "execution_count": null,
   "metadata": {
    "vscode": {
     "languageId": "sql"
    }
   },
   "outputs": [],
   "source": [
    "select \n",
    "    cal_date as days,\n",
    "    sum(cnt) as sku\n",
    "from transactions_another_one\n",
    "group by cal_date"
   ]
  },
  {
   "cell_type": "markdown",
   "metadata": {},
   "source": [
    "**Dashboard:** \n",
    "![jupyter](./lvl_1_task_1.png)\n"
   ]
  }
 ],
 "metadata": {
  "kernelspec": {
   "display_name": "Python 3.11.0 64-bit",
   "language": "python",
   "name": "python3"
  },
  "language_info": {
   "codemirror_mode": {
    "name": "ipython",
    "version": 3
   },
   "file_extension": ".py",
   "mimetype": "text/x-python",
   "name": "python",
   "nbconvert_exporter": "python",
   "pygments_lexer": "ipython3",
   "version": "3.11.0"
  },
  "orig_nbformat": 4,
  "vscode": {
   "interpreter": {
    "hash": "aee8b7b246df8f9039afb4144a1f6fd8d2ca17a180786b69acc140d282b71a49"
   }
  }
 },
 "nbformat": 4,
 "nbformat_minor": 2
}
