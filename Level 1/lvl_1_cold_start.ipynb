{
 "cells": [
  {
   "cell_type": "markdown",
   "metadata": {},
   "source": [
    "## Описание задачи"
   ]
  },
  {
   "cell_type": "markdown",
   "metadata": {},
   "source": [
    "Вы решаете задачу прогнозирования спроса в быстро развивающемся стартапе KarpovExpress, где кол-во новых товаров увеличивается на десятки штук каждый месяц. Прогноз продаж надо делать каждую неделю, а на товары-новинки нет данных и истории продаж. \\\n",
    "Ваша модель не выдает ничего адекватного и не умеет работать с NaN пропусками. \\\n",
    "Но есть идея - пропуски для товаров-новинок можно заполнить среднем значением продаж по категории этого товара! \\\n",
    "Ваша задача – дописать функцию fillna_with_mean, которая заполняет пропуски в колонке target ее средними значениями по группам. Группировка происходит по колонке group.\n",
    "\n",
    "Важно: Ваша функция не прявазана к опреденному формату датасета, ниже дан пример для задачи прогнозирования спроса. \\\n",
    "Также Вы можете использовать этот подход для других задач, например:\n",
    "* Оценка конверсии товаров - нужно заполнить пропуски для товаров-новинок.\n",
    "* Предсказание ежедневных посещений сайта пользователями - нужно заполнить пропуски для новых пользователей."
   ]
  },
  {
   "cell_type": "markdown",
   "metadata": {},
   "source": [
    "## Решение:"
   ]
  },
  {
   "cell_type": "code",
   "execution_count": 107,
   "metadata": {},
   "outputs": [],
   "source": [
    "import pandas as pd\n",
    "\n",
    "\n",
    "def fillna_with_mean(df: pd.DataFrame, target: str, group: str) -> pd.DataFrame:\n",
    "    \"\"\"Fillna values in the target grouping by category feature.\"\"\"\n",
    "    dataframe_copy = df.copy()\n",
    "    mean_target_transform = dataframe_copy.groupby(group)[target].transform(\"mean\")\n",
    "    dataframe_copy[target] = dataframe_copy[target].fillna(mean_target_transform)\n",
    "    # Используем transform, чтобы на выходе получался датафрейм того же размера что и на входе\n",
    "    return dataframe_copy"
   ]
  },
  {
   "cell_type": "code",
   "execution_count": 110,
   "metadata": {},
   "outputs": [
    {
     "name": "stdout",
     "output_type": "stream",
     "text": [
      "       monday  product_id  category  sales\n",
      "0  2020-01-05          14        14   45.0\n",
      "1  2020-01-05          82        19    NaN\n",
      "2  2020-01-05          42         4   62.0\n",
      "3  2020-01-05          90         2    NaN\n",
      "4  2020-01-05          67        19   38.0\n",
      "5  2020-01-05          36        19    1.0\n",
      "6  2020-01-05          71        19    NaN\n",
      "7  2020-01-05          47         2   41.0\n",
      "8  2020-01-05          68         2   66.0\n",
      "9  2020-01-05           9        14   55.0\n"
     ]
    },
    {
     "data": {
      "text/html": [
       "<div>\n",
       "<style scoped>\n",
       "    .dataframe tbody tr th:only-of-type {\n",
       "        vertical-align: middle;\n",
       "    }\n",
       "\n",
       "    .dataframe tbody tr th {\n",
       "        vertical-align: top;\n",
       "    }\n",
       "\n",
       "    .dataframe thead th {\n",
       "        text-align: right;\n",
       "    }\n",
       "</style>\n",
       "<table border=\"1\" class=\"dataframe\">\n",
       "  <thead>\n",
       "    <tr style=\"text-align: right;\">\n",
       "      <th></th>\n",
       "      <th>monday</th>\n",
       "      <th>product_id</th>\n",
       "      <th>category</th>\n",
       "      <th>sales</th>\n",
       "    </tr>\n",
       "  </thead>\n",
       "  <tbody>\n",
       "    <tr>\n",
       "      <th>0</th>\n",
       "      <td>2020-01-05</td>\n",
       "      <td>14</td>\n",
       "      <td>14</td>\n",
       "      <td>45.0</td>\n",
       "    </tr>\n",
       "    <tr>\n",
       "      <th>1</th>\n",
       "      <td>2020-01-05</td>\n",
       "      <td>82</td>\n",
       "      <td>19</td>\n",
       "      <td>19.5</td>\n",
       "    </tr>\n",
       "    <tr>\n",
       "      <th>2</th>\n",
       "      <td>2020-01-05</td>\n",
       "      <td>42</td>\n",
       "      <td>4</td>\n",
       "      <td>62.0</td>\n",
       "    </tr>\n",
       "    <tr>\n",
       "      <th>3</th>\n",
       "      <td>2020-01-05</td>\n",
       "      <td>90</td>\n",
       "      <td>2</td>\n",
       "      <td>53.5</td>\n",
       "    </tr>\n",
       "    <tr>\n",
       "      <th>4</th>\n",
       "      <td>2020-01-05</td>\n",
       "      <td>67</td>\n",
       "      <td>19</td>\n",
       "      <td>38.0</td>\n",
       "    </tr>\n",
       "    <tr>\n",
       "      <th>5</th>\n",
       "      <td>2020-01-05</td>\n",
       "      <td>36</td>\n",
       "      <td>19</td>\n",
       "      <td>1.0</td>\n",
       "    </tr>\n",
       "    <tr>\n",
       "      <th>6</th>\n",
       "      <td>2020-01-05</td>\n",
       "      <td>71</td>\n",
       "      <td>19</td>\n",
       "      <td>19.5</td>\n",
       "    </tr>\n",
       "    <tr>\n",
       "      <th>7</th>\n",
       "      <td>2020-01-05</td>\n",
       "      <td>47</td>\n",
       "      <td>2</td>\n",
       "      <td>41.0</td>\n",
       "    </tr>\n",
       "    <tr>\n",
       "      <th>8</th>\n",
       "      <td>2020-01-05</td>\n",
       "      <td>68</td>\n",
       "      <td>2</td>\n",
       "      <td>66.0</td>\n",
       "    </tr>\n",
       "    <tr>\n",
       "      <th>9</th>\n",
       "      <td>2020-01-05</td>\n",
       "      <td>9</td>\n",
       "      <td>14</td>\n",
       "      <td>55.0</td>\n",
       "    </tr>\n",
       "  </tbody>\n",
       "</table>\n",
       "</div>"
      ],
      "text/plain": [
       "       monday  product_id  category  sales\n",
       "0  2020-01-05          14        14   45.0\n",
       "1  2020-01-05          82        19   19.5\n",
       "2  2020-01-05          42         4   62.0\n",
       "3  2020-01-05          90         2   53.5\n",
       "4  2020-01-05          67        19   38.0\n",
       "5  2020-01-05          36        19    1.0\n",
       "6  2020-01-05          71        19   19.5\n",
       "7  2020-01-05          47         2   41.0\n",
       "8  2020-01-05          68         2   66.0\n",
       "9  2020-01-05           9        14   55.0"
      ]
     },
     "execution_count": 110,
     "metadata": {},
     "output_type": "execute_result"
    }
   ],
   "source": [
    "# Тестовый набор данных для проверки\n",
    "import numpy as np\n",
    "input_data =    {'monday': \n",
    "                  ['2020-01-05',\n",
    "                   '2020-01-05',\n",
    "                   '2020-01-05',\n",
    "                   '2020-01-05',\n",
    "                   '2020-01-05',\n",
    "                   '2020-01-05',\n",
    "                   '2020-01-05',\n",
    "                   '2020-01-05',\n",
    "                   '2020-01-05',\n",
    "                   '2020-01-05'\n",
    "                   ],\n",
    "               'product_id': [14, 82, 42, 90, 67, 36, 71,47, 68, 9],\n",
    "               'category': [14, 19, 4, 2, 19, 19, 19, 2, 2, 14],\n",
    "               'sales': [45.0, np.NaN, 62.0, np.NaN, 38.0, 1.0, np.NaN, 41.0, 66.0, 55.0]\n",
    "               }\n",
    "\n",
    "df_test = pd.DataFrame(input_data)\n",
    "print(df_test)\n",
    "fillna_with_mean(df_test, \"sales\", \"category\")"
   ]
  }
 ],
 "metadata": {
  "kernelspec": {
   "display_name": "Python 3.11.0 64-bit",
   "language": "python",
   "name": "python3"
  },
  "language_info": {
   "codemirror_mode": {
    "name": "ipython",
    "version": 3
   },
   "file_extension": ".py",
   "mimetype": "text/x-python",
   "name": "python",
   "nbconvert_exporter": "python",
   "pygments_lexer": "ipython3",
   "version": "3.11.0"
  },
  "orig_nbformat": 4,
  "vscode": {
   "interpreter": {
    "hash": "aee8b7b246df8f9039afb4144a1f6fd8d2ca17a180786b69acc140d282b71a49"
   }
  }
 },
 "nbformat": 4,
 "nbformat_minor": 2
}
