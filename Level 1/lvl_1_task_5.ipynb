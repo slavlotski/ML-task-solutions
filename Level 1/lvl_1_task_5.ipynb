{
 "cells": [
  {
   "cell_type": "markdown",
   "metadata": {},
   "source": [
    "## Описание задачки:"
   ]
  },
  {
   "cell_type": "markdown",
   "metadata": {},
   "source": [
    "Вам предоставлен доступ к таблице view_checks, в ней содержатся данные о покупках совершенных в нашем магазине. Вам необходимо посчитать 2 метрики за каждый месяц:\n",
    "1. средний чек пользователя \n",
    "2. медианный чек пользователя\\\n",
    "В СlickHouse есть несколько возможных способов расчета медианы. В нашем случае необходимо использовать функцию для ТОЧНОГО вычисления квантиля числовой последовательности.\n",
    "Колонки в ожидаемой таблице:\n",
    "* month – месяц агрегации в формате DD/MM/YY - например, 01/12/19\n",
    "* avg_cheсk – средний чек за этот месяц\n",
    "* median_check – медианный чек за этот месяц"
   ]
  },
  {
   "cell_type": "markdown",
   "metadata": {},
   "source": [
    "## Решение:"
   ]
  },
  {
   "cell_type": "code",
   "execution_count": null,
   "metadata": {
    "vscode": {
     "languageId": "sql"
    }
   },
   "outputs": [],
   "source": [
    "select \n",
    "    toStartOfMonth(toDate(buy_date)) as month,\n",
    "    avg(check_amount) as avg_check,\n",
    "    quantileExactExclusive(0.5)(check_amount) as median_check\n",
    "from default.view_checks\n",
    "group by toStartOfMonth(toDate(buy_date))"
   ]
  }
 ],
 "metadata": {
  "kernelspec": {
   "display_name": "Python 3.11.0 64-bit",
   "language": "python",
   "name": "python3"
  },
  "language_info": {
   "name": "python",
   "version": "3.11.0"
  },
  "orig_nbformat": 4,
  "vscode": {
   "interpreter": {
    "hash": "aee8b7b246df8f9039afb4144a1f6fd8d2ca17a180786b69acc140d282b71a49"
   }
  }
 },
 "nbformat": 4,
 "nbformat_minor": 2
}
