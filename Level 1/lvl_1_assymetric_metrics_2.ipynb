{
 "cells": [
  {
   "cell_type": "markdown",
   "metadata": {},
   "source": [
    "## Описание задачи: \n",
    "Мы B2B финтех стартап – предоставляем депозиты/кредиты, куплю/продажу ценных бумаг и другие финансовые инструменты. У нас небольшое число очень крупных клиентов. Мы заключаем контракты минимум на 1 год и для принятия решения о сотрудничестве, мы разрабатываем модель, которая для потенциального клиента прогнозирует LTV (LifeTime Value, сколько денег нам принесёт клиент за всё время, что будет пользоваться нашим сервисом).\n",
    "\n",
    "Подумайте, что предпочтительнее: недооценить или переоценить стоимость потенциального клиента?\n",
    "\n",
    "Вам необходимо выбрать или разработать функцию, отражающую ошибку для оценки модели прогноза LTV."
   ]
  },
  {
   "cell_type": "markdown",
   "metadata": {},
   "source": [
    "## Решение:"
   ]
  },
  {
   "cell_type": "code",
   "execution_count": 4,
   "metadata": {},
   "outputs": [],
   "source": [
    "import numpy as np\n",
    "\n",
    "def ltv_error(y_true: np.array, y_pred: np.array) -> float:\n",
    "    \"\"\"Custom LTV metric\"\"\"\n",
    "\n",
    "    return np.mean(np.abs((y_true**2) - ((y_pred)**2)))"
   ]
  }
 ],
 "metadata": {
  "kernelspec": {
   "display_name": "Python 3.11.0 64-bit",
   "language": "python",
   "name": "python3"
  },
  "language_info": {
   "codemirror_mode": {
    "name": "ipython",
    "version": 3
   },
   "file_extension": ".py",
   "mimetype": "text/x-python",
   "name": "python",
   "nbconvert_exporter": "python",
   "pygments_lexer": "ipython3",
   "version": "3.11.0"
  },
  "orig_nbformat": 4,
  "vscode": {
   "interpreter": {
    "hash": "aee8b7b246df8f9039afb4144a1f6fd8d2ca17a180786b69acc140d282b71a49"
   }
  }
 },
 "nbformat": 4,
 "nbformat_minor": 2
}
