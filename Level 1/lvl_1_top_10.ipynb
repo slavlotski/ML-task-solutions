{
 "cells": [
  {
   "cell_type": "markdown",
   "metadata": {},
   "source": [
    "## Описание задачи №1 \n",
    "\n",
    "Напишите запрос с демонстрацией TOP 10 брендов (колонка brand), которые имеют больше всего зарегистрированных типов SKU (stock-keeping unit) - колонка sku_type. "
   ]
  },
  {
   "cell_type": "markdown",
   "metadata": {},
   "source": [
    "## Решение:"
   ]
  },
  {
   "cell_type": "code",
   "execution_count": null,
   "metadata": {
    "vscode": {
     "languageId": "sql"
    }
   },
   "outputs": [],
   "source": [
    "select brand, \n",
    "       count(sku_type) as count_sku \n",
    "from sku_dict_another_one\n",
    "where brand is not null\n",
    "group by brand\n",
    "order by count(sku_type) desc\n",
    "limit 10"
   ]
  },
  {
   "cell_type": "markdown",
   "metadata": {},
   "source": [
    "## Описание задачи №2\n",
    "Напишите запрос с демонстрацией TOP 10 sku (колонка sku_type), которые имеют больше всего вендоров (колонка vendor), которые их продают."
   ]
  },
  {
   "cell_type": "markdown",
   "metadata": {},
   "source": [
    "## Решение:"
   ]
  },
  {
   "cell_type": "code",
   "execution_count": null,
   "metadata": {
    "vscode": {
     "languageId": "sql"
    }
   },
   "outputs": [],
   "source": [
    "select sku_type, \n",
    "       count(distinct vendor) as count_vendor \n",
    "from sku_dict_another_one\n",
    "group by sku_type\n",
    "order by count(distinct vendor) desc\n",
    "limit 10"
   ]
  },
  {
   "cell_type": "markdown",
   "metadata": {},
   "source": [
    "## Описание задачи №3\n",
    "Напишите запрос с демонстрацией TOP 10 вендоров (колонка vendor), которые имеют больше всего брендов (колонка brand) среди продаваемых SKU."
   ]
  },
  {
   "cell_type": "markdown",
   "metadata": {},
   "source": [
    "## Решение:"
   ]
  },
  {
   "cell_type": "code",
   "execution_count": null,
   "metadata": {
    "vscode": {
     "languageId": "sql"
    }
   },
   "outputs": [],
   "source": [
    "select vendor, \n",
    "       count(distinct brand) as brand \n",
    "from sku_dict_another_one\n",
    "where brand is not null\n",
    "group by vendor\n",
    "order by count(distinct brand) desc\n",
    "limit 10"
   ]
  },
  {
   "cell_type": "markdown",
   "metadata": {},
   "source": [
    "\n",
    "## Описание задачи №4\n",
    "Напишите запрос с демонстрацией TOP 10 вендоров (колонка vendor), которые продают больше всего SKU (колонка sku_type)."
   ]
  },
  {
   "cell_type": "markdown",
   "metadata": {},
   "source": [
    "## Решение:"
   ]
  },
  {
   "cell_type": "code",
   "execution_count": null,
   "metadata": {
    "vscode": {
     "languageId": "sql"
    }
   },
   "outputs": [],
   "source": [
    "select  vendor, \n",
    "        count(sku_type) as sku \n",
    "from sku_dict_another_one\n",
    "group by vendor\n",
    "order by count(sku_type) desc\n",
    "limit 10"
   ]
  }
 ],
 "metadata": {
  "kernelspec": {
   "display_name": "Python 3.11.0 64-bit",
   "language": "python",
   "name": "python3"
  },
  "language_info": {
   "name": "python",
   "version": "3.11.0"
  },
  "orig_nbformat": 4,
  "vscode": {
   "interpreter": {
    "hash": "aee8b7b246df8f9039afb4144a1f6fd8d2ca17a180786b69acc140d282b71a49"
   }
  }
 },
 "nbformat": 4,
 "nbformat_minor": 2
}
