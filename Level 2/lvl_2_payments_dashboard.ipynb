{
 "cells": [
  {
   "attachments": {},
   "cell_type": "markdown",
   "metadata": {},
   "source": [
    "## Описание задачи: \n",
    "В таблице new_payments хранится информация о пользователях и том, какие курсы они покупали.  Подробная структура таблицы описана на вкладке Структура данных.\n",
    "Содержатся следующие поля:\n",
    "- id — персональный номер транзакции\n",
    "- date — дата проведения транзакции\n",
    "- amount — сумма оплаты пользователем\n",
    "- status — статус оплаты, при этом подтвержденные оплаты имеют только статус 'confirmed'\n",
    "\n",
    "В этой задаче нужно построить дашборд — вывести процент успешных оплат в месяц для каждого из типов оплат: Visa, Mastercard и др. Необходимо отсортировать по возрастанию времени,  а также возрастанием типа оплаты по алфавиту (ApplePay, GooglePay и т.д.). Не рассматривать транзакции, где способ оплаты не определен («Не определено»)."
   ]
  },
  {
   "attachments": {},
   "cell_type": "markdown",
   "metadata": {},
   "source": [
    "## Решение:"
   ]
  },
  {
   "cell_type": "code",
   "execution_count": null,
   "metadata": {
    "vscode": {
     "languageId": "sql"
    }
   },
   "outputs": [],
   "source": [
    "select b.date as time, \n",
    "       b.mode as mode, \n",
    "       coalesce((a.confirmed_by_month * 100.0 /b.total_by_month),0)  as percents \n",
    "from \n",
    "        (select date_trunc('month',date)::date as date, mode, count(*) as confirmed_by_month\n",
    "        from new_payments\n",
    "        where status = 'Confirmed' and mode <> 'Не определено'\n",
    "        group by date_trunc('month',date), mode) a \n",
    "right join\n",
    "        (select date_trunc('month',date)::date as date, mode, count(*) as total_by_month\n",
    "        from new_payments\n",
    "        where mode <> 'Не определено'\n",
    "        group by  date_trunc('month',date), mode) b on \n",
    "a.date = b.date and a.mode = b.mode\n",
    "order by b.date, b.mode"
   ]
  },
  {
   "attachments": {},
   "cell_type": "markdown",
   "metadata": {},
   "source": [
    "### Dashboard\n",
    "![Dashboard](lvl_2_payments_dashboard.png)"
   ]
  }
 ],
 "metadata": {
  "kernelspec": {
   "display_name": "Python 3",
   "language": "python",
   "name": "python3"
  },
  "language_info": {
   "name": "python",
   "version": "3.11.0 (v3.11.0:deaf509e8f, Oct 24 2022, 14:43:23) [Clang 13.0.0 (clang-1300.0.29.30)]"
  },
  "orig_nbformat": 4,
  "vscode": {
   "interpreter": {
    "hash": "aee8b7b246df8f9039afb4144a1f6fd8d2ca17a180786b69acc140d282b71a49"
   }
  }
 },
 "nbformat": 4,
 "nbformat_minor": 2
}
